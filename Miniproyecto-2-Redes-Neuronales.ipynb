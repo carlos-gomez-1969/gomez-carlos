{
 "cells": [
  {
   "cell_type": "markdown",
   "metadata": {},
   "source": [
    "### 2.1 Perceptrón Multicapa\n",
    "### 2.1.1 Modificaciones de la arquitectura"
   ]
  },
  {
   "cell_type": "code",
   "execution_count": 1,
   "metadata": {},
   "outputs": [
    {
     "name": "stdout",
     "output_type": "stream",
     "text": [
      "Mejor configuración: ((64, 'tanh', 3), 0.55)\n"
     ]
    }
   ],
   "source": [
    "#Carlos Gómez M.\n",
    "#Mini proyecto: Redes neuronales\n",
    "#Me costo mucho el desarrollo, tuve que consultar en google y ver algunos videos\n",
    "#Para terminar este proyecto.\n",
    "#Gracias\n",
    "\n",
    "\n",
    "import tensorflow as tf\n",
    "from tensorflow.keras.models import Sequential\n",
    "from tensorflow.keras.layers import Dense, Activation, Dropout\n",
    "from tensorflow.keras.optimizers import Adam\n",
    "from sklearn.model_selection import train_test_split\n",
    "from sklearn.metrics import accuracy_score\n",
    "import numpy as np\n",
    "import pandas as pd\n",
    "\n",
    "\n",
    "#Generar datos simulados para el Perceptrón Multicapa\n",
    "np.random.seed(42)\n",
    "X = np.random.rand(1000, 20)  \n",
    "y = np.random.randint(0, 2, 1000)\n",
    "\n",
    "#Dividir los datos en entrenamiento\n",
    "X_train, X_test, y_train, y_test = train_test_split(X, y, test_size=0.2, random_state=42)\n",
    "\n",
    "\n",
    "#Crear función para construir y entrenar modelos de perceptrón multicapa\n",
    "def entrenar_modelo_perceptron(neuronas_por_capa, activacion, capas_ocultas):\n",
    "    modelo = Sequential()\n",
    "    for _ in range(capas_ocultas):\n",
    "        modelo.add(Dense(neuronas_por_capa, activation=activacion))\n",
    "    modelo.add(Dense(1, activation=\"sigmoid\"))\n",
    "\n",
    "    modelo.compile(optimizer=Adam(), loss=\"binary_crossentropy\", metrics=[\"accuracy\"])\n",
    "    modelo.fit(X_train, y_train, epochs=20, batch_size=32, verbose=0)\n",
    "\n",
    "    y_pred = (modelo.predict(X_test) > 0.5).astype(int)\n",
    "    accuracy = accuracy_score(y_test, y_pred)\n",
    "\n",
    "    return accuracy\n",
    "\n",
    "resultados = []\n",
    "configuraciones = [\n",
    "    (32, \"relu\", 2),\n",
    "    (64, \"tanh\", 3),\n",
    "    (128, \"relu\", 4),\n",
    "]\n",
    "\n",
    "for config in configuraciones:\n",
    "    acc = entrenar_modelo_perceptron(*config)\n",
    "    resultados.append((config, acc))\n",
    "\n",
    "#Seleccionar el mejor modelo.\n",
    "mejor_configuracion = max(resultados, key=lambda x: x[1])\n",
    "print(\"Mejor configuración:\", mejor_configuracion)\n"
   ]
  },
  {
   "cell_type": "markdown",
   "metadata": {},
   "source": [
    "### 2.1.2 Modificaciones del entrenamiento"
   ]
  },
  {
   "cell_type": "code",
   "execution_count": 16,
   "metadata": {},
   "outputs": [
    {
     "name": "stdout",
     "output_type": "stream",
     "text": [
      "Mejor entrenamiento: ((0.0001, 16, 25), 0.51)\n"
     ]
    }
   ],
   "source": [
    "def entrenar_modelo_entrenamiento(learning_rate, batch_size, epochs):\n",
    "    modelo = Sequential()\n",
    "    modelo.add(Dense(64, activation=\"relu\"))\n",
    "    modelo.add(Dense(1, activation=\"sigmoid\"))\n",
    "\n",
    "    modelo.compile(optimizer=Adam(learning_rate=learning_rate), loss=\"binary_crossentropy\", metrics=[\"accuracy\"])\n",
    "    modelo.fit(X_train, y_train, epochs=epochs, batch_size=batch_size, verbose=0)\n",
    "\n",
    "    y_pred = (modelo.predict(X_test) > 0.5).astype(int)\n",
    "    accuracy = accuracy_score(y_test, y_pred)\n",
    "\n",
    "    return accuracy\n",
    "\n",
    "#Probar diferentes hiperparámetros.\n",
    "resultados_entrenamiento = []\n",
    "hiperparametros = [\n",
    "    (0.001, 32, 20),\n",
    "    (0.01, 64, 30),\n",
    "    (0.0001, 16, 25),\n",
    "]\n",
    "\n",
    "for hp in hiperparametros:\n",
    "    acc = entrenar_modelo_entrenamiento(*hp)\n",
    "    resultados_entrenamiento.append((hp, acc))\n",
    "\n",
    "# Seleccionar el mejor configuración de entrenamiento.\n",
    "mejor_entrenamiento = max(resultados_entrenamiento, key=lambda x: x[1])\n",
    "print(\"Mejor entrenamiento:\", mejor_entrenamiento)"
   ]
  },
  {
   "cell_type": "markdown",
   "metadata": {},
   "source": [
    "### 2.2 Redes Convolucionales\n",
    "### 2.2.1 Modificaciones de la arquitectura"
   ]
  },
  {
   "cell_type": "code",
   "execution_count": 10,
   "metadata": {},
   "outputs": [
    {
     "name": "stdout",
     "output_type": "stream",
     "text": [
      "Mejor configuración de red convolucional ajustada: ((32, 2, False), 0.465)\n"
     ]
    }
   ],
   "source": [
    "from tensorflow.keras.layers import Conv2D, MaxPooling2D, Flatten\n",
    "\n",
    "# Simular datos de imagen\n",
    "X_imagen = np.random.rand(1000, 28, 28, 1)  \n",
    "y_imagen = np.random.randint(0, 2, 1000)  \n",
    "\n",
    "X_train_img, X_test_img, y_train_img, y_test_img = train_test_split(X_imagen, y_imagen, test_size=0.2, random_state=42)\n",
    "\n",
    "#Crear función para entrenar redes convolucionales con ajuste en las dimensiones.\n",
    "def entrenar_red_convolucional_ajustada(filtros, capas_conv, dropout):\n",
    "    modelo = Sequential()\n",
    "    modelo.add(Conv2D(filtros, (3, 3), activation=\"relu\", input_shape=(28, 28, 1)))\n",
    "    modelo.add(MaxPooling2D((2, 2)))\n",
    "    \n",
    "    for _ in range(capas_conv - 1):\n",
    "        modelo.add(Conv2D(filtros, (3, 3), activation=\"relu\"))\n",
    "        modelo.add(MaxPooling2D((2, 2)))\n",
    "    \n",
    "    modelo.add(Flatten())\n",
    "    modelo.add(Dense(128, activation=\"relu\"))\n",
    "    if dropout:\n",
    "        modelo.add(Dropout(0.5))\n",
    "    modelo.add(Dense(1, activation=\"sigmoid\"))\n",
    "\n",
    "    modelo.compile(optimizer=Adam(), loss=\"binary_crossentropy\", metrics=[\"accuracy\"])\n",
    "    modelo.fit(X_train_img, y_train_img, epochs=10, batch_size=32, verbose=0)\n",
    "\n",
    "    y_pred = (modelo.predict(X_test_img) > 0.5).astype(int)\n",
    "    accuracy = accuracy_score(y_test_img, y_pred)\n",
    "\n",
    "    return accuracy\n",
    "\n",
    "resultados_redes_ajustadas = []\n",
    "configuraciones_red = [\n",
    "    (32, 2, False),\n",
    "    (64, 3, True),\n",
    "    (128, 2, True),  \n",
    "]\n",
    "\n",
    "for config in configuraciones_red:\n",
    "    acc = entrenar_red_convolucional_ajustada(*config)\n",
    "    resultados_redes_ajustadas.append((config, acc))\n",
    "\n",
    "# Mejor configuración para redes convolucionales\n",
    "mejor_red_ajustada = max(resultados_redes_ajustadas, key=lambda x: x[1])\n",
    "print(\"Mejor configuración de red convolucional ajustada:\", mejor_red_ajustada)\n"
   ]
  },
  {
   "cell_type": "markdown",
   "metadata": {},
   "source": [
    "### 2.2.2 Modificaciones del entrenamiento"
   ]
  },
  {
   "cell_type": "code",
   "execution_count": 11,
   "metadata": {},
   "outputs": [
    {
     "name": "stdout",
     "output_type": "stream",
     "text": [
      "Mejor entrenamiento de red convolucional: ((0.001, 32, 20), 0.44)\n"
     ]
    }
   ],
   "source": [
    "resultados_entrenamiento_red = []\n",
    "\n",
    "for hp in hiperparametros:\n",
    "    acc = entrenar_red_convolucional(64, 3, True)  \n",
    "    resultados_entrenamiento_red.append((hp, acc))\n",
    "\n",
    "mejor_entrenamiento_red = max(resultados_entrenamiento_red, key=lambda x: x[1])\n",
    "print(\"Mejor entrenamiento de red convolucional:\", mejor_entrenamiento_red)\n"
   ]
  },
  {
   "cell_type": "markdown",
   "metadata": {},
   "source": [
    "### 2.3 Comparación"
   ]
  },
  {
   "cell_type": "code",
   "execution_count": 18,
   "metadata": {},
   "outputs": [
    {
     "name": "stdout",
     "output_type": "stream",
     "text": [
      "Error: Faltan los resultados de los modelos. Asegúrate de ejecutar las secciones 2.1.1 y 2.2.1.\n",
      "Mejor entrenamiento de Perceptrón Multicapa: ((0.0001, 16, 25), 0.51)\n",
      "Mejor entrenamiento de Red Convolucional: ((0.001, 32, 20), 0.44)\n"
     ]
    }
   ],
   "source": [
    "if 'mejor_configuracion' in locals() and 'mejor_red' in locals():\n",
    "    print(\"Mejor modelo de Perceptrón Multicapa:\", mejor_configuracion)\n",
    "    print(\"Mejor modelo de Red Convolucional:\", mejor_red)\n",
    "else:\n",
    "    print(\"Error: Faltan los resultados de los modelos. Asegúrate de ejecutar las secciones 2.1.1 y 2.2.1.\")\n",
    "\n",
    "if 'mejor_entrenamiento' in locals() and 'mejor_entrenamiento_red' in locals():\n",
    "    print(\"Mejor entrenamiento de Perceptrón Multicapa:\", mejor_entrenamiento)\n",
    "    print(\"Mejor entrenamiento de Red Convolucional:\", mejor_entrenamiento_red)\n",
    "else:\n",
    "    print(\"Error: Faltan los resultados del entrenamiento. Asegúrate de ejecutar las secciones 2.1.2 y 2.2.2.\")\n"
   ]
  }
 ],
 "metadata": {
  "kernelspec": {
   "display_name": "curso_ciencias_de_datos",
   "language": "python",
   "name": "python3"
  },
  "language_info": {
   "codemirror_mode": {
    "name": "ipython",
    "version": 3
   },
   "file_extension": ".py",
   "mimetype": "text/x-python",
   "name": "python",
   "nbconvert_exporter": "python",
   "pygments_lexer": "ipython3",
   "version": "3.8.20"
  }
 },
 "nbformat": 4,
 "nbformat_minor": 2
}
