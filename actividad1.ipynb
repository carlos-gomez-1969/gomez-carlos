{
 "cells": [
  {
   "cell_type": "markdown",
   "id": "9f1c8499",
   "metadata": {},
   "source": [
    "Actividad 1: Exploración de Datos en Python\n",
    "Este notebook contiene los ejercicios de la actividad 1 de exploración de datos de acuerdo a las instrucciones proporcionadas."
   ]
  },
  {
   "cell_type": "code",
   "execution_count": 1,
   "id": "b97d4461",
   "metadata": {},
   "outputs": [],
   "source": [
    "import pandas as pd\n",
    "import numpy as np\n",
    "from sklearn.impute import SimpleImputer"
   ]
  },
  {
   "cell_type": "markdown",
   "id": "092b4a88",
   "metadata": {},
   "source": [
    " 2. Lectura y Análisis Exploratorio de Datos (Parte 1)"
   ]
  },
  {
   "cell_type": "markdown",
   "id": "9bac7996",
   "metadata": {},
   "source": [
    " Cargar datos del archivo `ejemplo_data.csv`"
   ]
  },
  {
   "cell_type": "code",
   "execution_count": null,
   "id": "7bfe82d7",
   "metadata": {},
   "outputs": [],
   "source": [
    "# Cargar datos del archivo ejemplo_data.csv\n",
    "df = pd.read_csv(r'C:\\CARLOS GOMEZ\\DIPLOMADO PYTHON UC\\CURSO 4 CIENCIAS DE DATOS\\ACTIVIDAD 1\\ejemplo_data.csv')\n",
    "df.head()  # Muestra las primeras filas para revisar"
   ]
  },
  {
   "cell_type": "markdown",
   "id": "43eca329",
   "metadata": {},
   "source": [
    " Explorar los tipos de datos"
   ]
  },
  {
   "cell_type": "code",
   "execution_count": null,
   "id": "a83ac5e5",
   "metadata": {},
   "outputs": [],
   "source": [
    "# Mostrar información de los tipos de datos\n",
    "print(df.info())"
   ]
  },
  {
   "cell_type": "markdown",
   "id": "94589bc3",
   "metadata": {},
   "source": [
    " Transformar columnas de tipo"
   ]
  },
  {
   "cell_type": "code",
   "execution_count": null,
   "id": "cc86babb",
   "metadata": {},
   "outputs": [],
   "source": [
    "# Cambiar tipos de datos\n",
    "# Solución 1: Reemplazar valores no numéricos con 0\n",
    "df['Unidades'] = pd.to_numeric(df['Unidades'], errors='coerce')\n",
    "df['Unidades'] = df['Unidades'].fillna(0).astype(int)\n",
    "\n",
    "df['2016'] = pd.to_numeric(df['2016'], errors='coerce') # Convertir la columna '2016' a numérico, convirtiendo valores no numéricos a NaN\n",
    "\n",
    "df['ID'] = df['ID'].astype(int)\n",
    "df['Activo'] = df['Activo'].astype(bool)\n",
    "df['Unidades'] = df['Unidades'].astype(int)\n",
    "df['2016'] = df['2016'].astype(float)\n",
    "# Confirmar cambios\n",
    "\n",
    "print(df.dtypes)"
   ]
  },
  {
   "cell_type": "markdown",
   "id": "9daae68f",
   "metadata": {},
   "source": [
    " 3. Lectura y Análisis Exploratorio de Datos (Parte 2)"
   ]
  },
  {
   "cell_type": "markdown",
   "id": "78f1e7bb",
   "metadata": {},
   "source": [
    " Cargar datos del archivo `ecommerce_data.csv`"
   ]
  },
  {
   "cell_type": "code",
   "execution_count": null,
   "id": "6730e8b8",
   "metadata": {},
   "outputs": [],
   "source": [
    "# Cargar datos del archivo ecommerce_data.csv\n",
    "#df_ecommerce = pd.read_csv(r'C:\\CARLOS GOMEZ\\DIPLOMADO PYTHON UC\\CURSO 4 CIENCIAS DE DATOS\\ACTIVIDAD 1\\ecommerce_data.csv')\n",
    "#Se aplica la siguiente instruccion ya que no reconoce el formato del archivo csv\n",
    "df_ecommerce = pd.read_csv(r'C:\\CARLOS GOMEZ\\DIPLOMADO PYTHON UC\\CURSO 4 CIENCIAS DE DATOS\\ACTIVIDAD 1\\ecommerce_data.csv', encoding='latin1')\n",
    "df_ecommerce.head()"
   ]
  },
  {
   "cell_type": "markdown",
   "id": "77dd0239",
   "metadata": {},
   "source": [
    " Transformación de tipos de datos"
   ]
  },
  {
   "cell_type": "code",
   "execution_count": null,
   "id": "4b4b0d32",
   "metadata": {},
   "outputs": [],
   "source": [
    "# Mostrar información inicial\n",
    "print(df_ecommerce.info())\n",
    "# Cambiar tipos de datos\n",
    "#df_ecommerce['InvoiceNo'] = df_ecommerce['InvoiceNo'].fillna(0).astype(int)\n",
    "df_ecommerce['InvoiceNo'] = pd.to_numeric(df_ecommerce['InvoiceNo'], errors='coerce').fillna(0).astype(int) # Convertir todos los valores no numéricos a NaN, luego llenar NaN con 0 y convertir a entero\n",
    "\n",
    "df_ecommerce['InvoiceNo'] = df_ecommerce['InvoiceNo'].astype(int)\n",
    "df_ecommerce['Description'] = df_ecommerce['Description'].astype(str)\n",
    "df_ecommerce['Quantity'] = df_ecommerce['Quantity'].astype(int)\n",
    "df_ecommerce['UnitPrice'] = df_ecommerce['UnitPrice'].astype(float)"
   ]
  },
  {
   "cell_type": "markdown",
   "id": "b077171f",
   "metadata": {},
   "source": [
    " Separar `InvoiceDate` en Fecha y Hora"
   ]
  },
  {
   "cell_type": "code",
   "execution_count": 7,
   "id": "049f01cd",
   "metadata": {},
   "outputs": [],
   "source": [
    "df_ecommerce['InvoiceDate'] = pd.to_datetime(df_ecommerce['InvoiceDate'])\n",
    "df_ecommerce['Fecha'] = df_ecommerce['InvoiceDate'].dt.date\n",
    "df_ecommerce['Hora'] = df_ecommerce['InvoiceDate'].dt.time"
   ]
  },
  {
   "cell_type": "markdown",
   "id": "3d78bac0",
   "metadata": {},
   "source": [
    " Añadir Columna `MontoTotal` y Exportar el Archivo Procesado"
   ]
  },
  {
   "cell_type": "code",
   "execution_count": 8,
   "id": "f2b01577",
   "metadata": {},
   "outputs": [],
   "source": [
    "# Crear columna de monto total\n",
    "df_ecommerce['MontoTotal'] = df_ecommerce['Quantity'] * df_ecommerce['UnitPrice']\n",
    "# Guardar el archivo procesado\n",
    "df_ecommerce.to_csv(r'C:\\CARLOS GOMEZ\\DIPLOMADO PYTHON UC\\CURSO 4 CIENCIAS DE DATOS\\ACTIVIDAD 1\\ecommerce_data_procesado.csv', index=False)"
   ]
  },
  {
   "cell_type": "markdown",
   "id": "a73c7e0f",
   "metadata": {},
   "source": [
    " 4. Estadísticas Descriptivas"
   ]
  },
  {
   "cell_type": "markdown",
   "id": "7e55bce0",
   "metadata": {},
   "source": [
    " Crear un Diccionario con Datos Simulados y Transformarlo en DataFrame"
   ]
  },
  {
   "cell_type": "code",
   "execution_count": 9,
   "id": "fd8b99ff",
   "metadata": {},
   "outputs": [],
   "source": [
    "data = {\n",
    "    'Atributo1': np.random.normal(50, 10, 50),\n",
    "    'Atributo2': np.random.normal(30, 5, 50),\n",
    "    'Atributo3': np.random.normal(100, 20, 50)\n",
    "}\n",
    "df_diccionario = pd.DataFrame(data)"
   ]
  },
  {
   "cell_type": "markdown",
   "id": "7dcd27ac",
   "metadata": {},
   "source": [
    " Estadísticas Descriptivas de Tendencia Central y Dispersión"
   ]
  },
  {
   "cell_type": "code",
   "execution_count": null,
   "id": "7563fc90",
   "metadata": {},
   "outputs": [],
   "source": [
    "# Estadísticas descriptivas\n",
    "print(df_diccionario.describe())"
   ]
  },
  {
   "cell_type": "markdown",
   "id": "e9f5eb4b",
   "metadata": {},
   "source": [
    "5. Transformación e Imputación de Datos"
   ]
  },
  {
   "cell_type": "markdown",
   "id": "49f775b8",
   "metadata": {},
   "source": [
    "Cargar datos de `ratings_data.csv` y `books_data.csv`"
   ]
  },
  {
   "cell_type": "code",
   "execution_count": 12,
   "id": "f5a2965c",
   "metadata": {},
   "outputs": [],
   "source": [
    "df_ratings = pd.read_csv(r'C:\\CARLOS GOMEZ\\DIPLOMADO PYTHON UC\\CURSO 4 CIENCIAS DE DATOS\\ACTIVIDAD 1\\ratings_data.csv')\n",
    "#df_books = pd.read_csv(r'C:\\CARLOS GOMEZ\\DIPLOMADO PYTHON UC\\CURSO 4 CIENCIAS DE DATOS\\ACTIVIDAD 1\\books_data.csv', encoding='detected_encoding')\n",
    "#df_books = pd.read_csv(r'C:\\CARLOS GOMEZ\\DIPLOMADO PYTHON UC\\CURSO 4 CIENCIAS DE DATOS\\ACTIVIDAD 1\\books_data.csv')\n",
    "#df_books = pd.read_csv(r'C:\\CARLOS GOMEZ\\DIPLOMADO PYTHON UC\\CURSO 4 CIENCIAS DE DATOS\\ACTIVIDAD 1\\books_data.csv', encoding='iso-8859-1')\n",
    "df_books = pd.read_excel(r'C:\\CARLOS GOMEZ\\DIPLOMADO PYTHON UC\\CURSO 4 CIENCIAS DE DATOS\\ACTIVIDAD 1\\books_data.xlsx')"
   ]
  },
  {
   "cell_type": "markdown",
   "id": "c70d9304",
   "metadata": {},
   "source": [
    "### Diagnóstico de Valores Faltantes e Imputación"
   ]
  },
  {
   "cell_type": "code",
   "execution_count": null,
   "id": "186686f7",
   "metadata": {},
   "outputs": [],
   "source": [
    "# Diagnóstico de valores nulos\n",
    "print(df_ratings.isna().sum())\n",
    "# Imputación de valores faltantes\n",
    "imputer = SimpleImputer(strategy='mean')\n",
    "#df_ratings = pd.DataFrame(imputer.fit_transform(df_ratings), columns=df_ratings.columns)\n",
    "# Imputación de valores faltantes en todas las columnas numéricas\n",
    "df_ratings[df_ratings.select_dtypes(include=['float64', 'int64']).columns] = imputer.fit_transform(df_ratings.select_dtypes(include=['float64', 'int64']))\n",
    "df_ratings.fillna(0, inplace=True)  # Segundo criterio de imputación\n",
    "\n",
    "# Diagnóstico de valores nulos\n",
    "print(df_ratings.isna().sum())\n"
   ]
  },
  {
   "cell_type": "markdown",
   "id": "ae025f83",
   "metadata": {},
   "source": [
    "### Promedio de Rating por ISBN"
   ]
  },
  {
   "cell_type": "code",
   "execution_count": 14,
   "id": "e8a06385",
   "metadata": {},
   "outputs": [],
   "source": [
    "#promedio_rating = df_ratings.groupby('ISBN')['Rating'].mean().reset_index()\n",
    "#print(df_ratings.columns) \n",
    "promedio_rating = df_ratings.groupby('ISBN')['Book-Rating'].mean().reset_index() #Faltaba colocar la palabra Book-rating\n",
    "promedio_rating.columns = ['ISBN', 'PromedioRating']\n",
    "df_ratings = df_ratings.merge(promedio_rating, on='ISBN', how='left')"
   ]
  },
  {
   "cell_type": "markdown",
   "id": "37614cb7",
   "metadata": {},
   "source": [
    "### Consolidación de Bases de Datos por ISBN"
   ]
  },
  {
   "cell_type": "code",
   "execution_count": null,
   "id": "f500cc94",
   "metadata": {},
   "outputs": [],
   "source": [
    "df_books = pd.read_excel(r'C:\\CARLOS GOMEZ\\DIPLOMADO PYTHON UC\\CURSO 4 CIENCIAS DE DATOS\\ACTIVIDAD 1\\books_data.xlsx')\n",
    "#print(\"Columnas en df_books:\", df_books.columns)\n",
    "print(df_books.head())\n",
    "df_consolidado = df_books.merge(df_ratings, on='ISBN', how='left')\n",
    "df_consolidado.to_csv(r'C:\\CARLOS GOMEZ\\DIPLOMADO PYTHON UC\\CURSO 4 CIENCIAS DE DATOS\\ACTIVIDAD 1\\consolidado.csv', index=False)"
   ]
  },
  {
   "cell_type": "markdown",
   "id": "38c6cdaa",
   "metadata": {},
   "source": [
    "## Conclusión\n",
    "En esta actividad, se realizaron varias tareas de exploración y transformación de datos utilizando las bibliotecas Pandas y NumPy, así como imputación de datos con sklearn. Cada paso contribuyó a la creación de un flujo de trabajo completo de análisis de datos."
   ]
  }
 ],
 "metadata": {
  "kernelspec": {
   "display_name": "curso_de_ciencias_de_datos",
   "language": "python",
   "name": "python3"
  },
  "language_info": {
   "codemirror_mode": {
    "name": "ipython",
    "version": 3
   },
   "file_extension": ".py",
   "mimetype": "text/x-python",
   "name": "python",
   "nbconvert_exporter": "python",
   "pygments_lexer": "ipython3",
   "version": "3.8.20"
  }
 },
 "nbformat": 4,
 "nbformat_minor": 5
}
