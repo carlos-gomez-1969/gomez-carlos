{
 "cells": [
  {
   "cell_type": "markdown",
   "id": "9f1c8499",
   "metadata": {},
   "source": [
    "Actividad 1: Exploración de Datos en Python\n",
    "Este notebook contiene los ejercicios de la actividad 1 de exploración de datos de acuerdo a las instrucciones proporcionadas."
   ]
  },
  {
   "cell_type": "code",
   "execution_count": 1,
   "id": "b97d4461",
   "metadata": {},
   "outputs": [],
   "source": [
    "import pandas as pd\n",
    "import numpy as np\n",
    "from sklearn.impute import SimpleImputer"
   ]
  },
  {
   "cell_type": "markdown",
   "id": "092b4a88",
   "metadata": {},
   "source": [
    " 2. Lectura y Análisis Exploratorio de Datos (Parte 1)"
   ]
  },
  {
   "cell_type": "markdown",
   "id": "9bac7996",
   "metadata": {},
   "source": [
    " Cargar datos del archivo `ejemplo_data.csv`"
   ]
  },
  {
   "cell_type": "code",
   "execution_count": 2,
   "id": "7bfe82d7",
   "metadata": {},
   "outputs": [
    {
     "data": {
      "text/html": [
       "<div>\n",
       "<style scoped>\n",
       "    .dataframe tbody tr th:only-of-type {\n",
       "        vertical-align: middle;\n",
       "    }\n",
       "\n",
       "    .dataframe tbody tr th {\n",
       "        vertical-align: top;\n",
       "    }\n",
       "\n",
       "    .dataframe thead th {\n",
       "        text-align: right;\n",
       "    }\n",
       "</style>\n",
       "<table border=\"1\" class=\"dataframe\">\n",
       "  <thead>\n",
       "    <tr style=\"text-align: right;\">\n",
       "      <th></th>\n",
       "      <th>ID</th>\n",
       "      <th>Nombre</th>\n",
       "      <th>2016</th>\n",
       "      <th>2017</th>\n",
       "      <th>Crecimiento</th>\n",
       "      <th>Unidades</th>\n",
       "      <th>fecha</th>\n",
       "      <th>Activo</th>\n",
       "    </tr>\n",
       "  </thead>\n",
       "  <tbody>\n",
       "    <tr>\n",
       "      <th>0</th>\n",
       "      <td>10002</td>\n",
       "      <td>Verde Mar</td>\n",
       "      <td>$125,000.00</td>\n",
       "      <td>$162500.00</td>\n",
       "      <td>30.00%</td>\n",
       "      <td>500</td>\n",
       "      <td>1-10-2015</td>\n",
       "      <td>1</td>\n",
       "    </tr>\n",
       "    <tr>\n",
       "      <th>1</th>\n",
       "      <td>552278</td>\n",
       "      <td>Manantial sa</td>\n",
       "      <td>$920,000.00</td>\n",
       "      <td>$101,2000.00</td>\n",
       "      <td>10.00%</td>\n",
       "      <td>700</td>\n",
       "      <td>6-23-2014</td>\n",
       "      <td>0</td>\n",
       "    </tr>\n",
       "    <tr>\n",
       "      <th>2</th>\n",
       "      <td>23477</td>\n",
       "      <td>ACME</td>\n",
       "      <td>$50,000.00</td>\n",
       "      <td>62500.00</td>\n",
       "      <td>25.00%</td>\n",
       "      <td>125</td>\n",
       "      <td>3-12-2016</td>\n",
       "      <td>1</td>\n",
       "    </tr>\n",
       "    <tr>\n",
       "      <th>3</th>\n",
       "      <td>24900</td>\n",
       "      <td>Andes sur</td>\n",
       "      <td>$350,000.00</td>\n",
       "      <td>490000.00</td>\n",
       "      <td>4.00%</td>\n",
       "      <td>75</td>\n",
       "      <td>10-28-2015</td>\n",
       "      <td>1</td>\n",
       "    </tr>\n",
       "    <tr>\n",
       "      <th>4</th>\n",
       "      <td>651029</td>\n",
       "      <td>San Pablo</td>\n",
       "      <td>$15,000.00</td>\n",
       "      <td>$12750.00</td>\n",
       "      <td>-15.00%</td>\n",
       "      <td>No</td>\n",
       "      <td>2-15-2014</td>\n",
       "      <td>0</td>\n",
       "    </tr>\n",
       "  </tbody>\n",
       "</table>\n",
       "</div>"
      ],
      "text/plain": [
       "       ID        Nombre         2016          2017 Crecimiento Unidades  \\\n",
       "0   10002     Verde Mar  $125,000.00    $162500.00      30.00%      500   \n",
       "1  552278  Manantial sa  $920,000.00  $101,2000.00      10.00%      700   \n",
       "2   23477          ACME   $50,000.00      62500.00      25.00%      125   \n",
       "3   24900     Andes sur  $350,000.00     490000.00       4.00%       75   \n",
       "4  651029     San Pablo   $15,000.00     $12750.00     -15.00%       No   \n",
       "\n",
       "        fecha  Activo  \n",
       "0   1-10-2015       1  \n",
       "1   6-23-2014       0  \n",
       "2   3-12-2016       1  \n",
       "3  10-28-2015       1  \n",
       "4   2-15-2014       0  "
      ]
     },
     "execution_count": 2,
     "metadata": {},
     "output_type": "execute_result"
    }
   ],
   "source": [
    "# Cargar datos del archivo ejemplo_data.csv\n",
    "df = pd.read_csv(r'C:\\CARLOS GOMEZ\\DIPLOMADO PYTHON UC\\CURSO 4 CIENCIAS DE DATOS\\ACTIVIDAD 1\\ejemplo_data.csv')\n",
    "df.head()  # Muestra las primeras filas para revisar"
   ]
  },
  {
   "cell_type": "markdown",
   "id": "43eca329",
   "metadata": {},
   "source": [
    " Explorar los tipos de datos"
   ]
  },
  {
   "cell_type": "code",
   "execution_count": 3,
   "id": "a83ac5e5",
   "metadata": {},
   "outputs": [
    {
     "name": "stdout",
     "output_type": "stream",
     "text": [
      "<class 'pandas.core.frame.DataFrame'>\n",
      "RangeIndex: 5 entries, 0 to 4\n",
      "Data columns (total 8 columns):\n",
      " #   Column       Non-Null Count  Dtype \n",
      "---  ------       --------------  ----- \n",
      " 0   ID           5 non-null      int64 \n",
      " 1   Nombre       5 non-null      object\n",
      " 2   2016         5 non-null      object\n",
      " 3   2017         5 non-null      object\n",
      " 4   Crecimiento  5 non-null      object\n",
      " 5   Unidades     5 non-null      object\n",
      " 6   fecha        5 non-null      object\n",
      " 7   Activo       5 non-null      int64 \n",
      "dtypes: int64(2), object(6)\n",
      "memory usage: 452.0+ bytes\n",
      "None\n"
     ]
    }
   ],
   "source": [
    "# Mostrar información de los tipos de datos\n",
    "print(df.info())"
   ]
  },
  {
   "cell_type": "markdown",
   "id": "94589bc3",
   "metadata": {},
   "source": [
    " Transformar columnas de tipo"
   ]
  },
  {
   "cell_type": "code",
   "execution_count": 4,
   "id": "cc86babb",
   "metadata": {},
   "outputs": [
    {
     "name": "stdout",
     "output_type": "stream",
     "text": [
      "ID               int64\n",
      "Nombre          object\n",
      "2016           float64\n",
      "2017            object\n",
      "Crecimiento     object\n",
      "Unidades         int64\n",
      "fecha           object\n",
      "Activo            bool\n",
      "dtype: object\n"
     ]
    }
   ],
   "source": [
    "# Cambiar tipos de datos\n",
    "# Solución 1: Reemplazar valores no numéricos con 0\n",
    "df['Unidades'] = pd.to_numeric(df['Unidades'], errors='coerce')\n",
    "df['Unidades'] = df['Unidades'].fillna(0).astype(int)\n",
    "\n",
    "df['2016'] = pd.to_numeric(df['2016'], errors='coerce') # Convertir la columna '2016' a numérico, convirtiendo valores no numéricos a NaN\n",
    "\n",
    "df['ID'] = df['ID'].astype(int)\n",
    "df['Activo'] = df['Activo'].astype(bool)\n",
    "df['Unidades'] = df['Unidades'].astype(int)\n",
    "df['2016'] = df['2016'].astype(float)\n",
    "# Confirmar cambios\n",
    "\n",
    "print(df.dtypes)"
   ]
  },
  {
   "cell_type": "markdown",
   "id": "9daae68f",
   "metadata": {},
   "source": [
    " 3. Lectura y Análisis Exploratorio de Datos (Parte 2)"
   ]
  },
  {
   "cell_type": "markdown",
   "id": "78f1e7bb",
   "metadata": {},
   "source": [
    " Cargar datos del archivo `ecommerce_data.csv`"
   ]
  },
  {
   "cell_type": "code",
   "execution_count": 5,
   "id": "6730e8b8",
   "metadata": {},
   "outputs": [
    {
     "data": {
      "text/html": [
       "<div>\n",
       "<style scoped>\n",
       "    .dataframe tbody tr th:only-of-type {\n",
       "        vertical-align: middle;\n",
       "    }\n",
       "\n",
       "    .dataframe tbody tr th {\n",
       "        vertical-align: top;\n",
       "    }\n",
       "\n",
       "    .dataframe thead th {\n",
       "        text-align: right;\n",
       "    }\n",
       "</style>\n",
       "<table border=\"1\" class=\"dataframe\">\n",
       "  <thead>\n",
       "    <tr style=\"text-align: right;\">\n",
       "      <th></th>\n",
       "      <th>InvoiceNo</th>\n",
       "      <th>StockCode</th>\n",
       "      <th>Description</th>\n",
       "      <th>Quantity</th>\n",
       "      <th>InvoiceDate</th>\n",
       "      <th>UnitPrice</th>\n",
       "      <th>CustomerID</th>\n",
       "      <th>Country</th>\n",
       "    </tr>\n",
       "  </thead>\n",
       "  <tbody>\n",
       "    <tr>\n",
       "      <th>0</th>\n",
       "      <td>536365</td>\n",
       "      <td>85123A</td>\n",
       "      <td>WHITE HANGING HEART T-LIGHT HOLDER</td>\n",
       "      <td>6</td>\n",
       "      <td>12/1/2010 8:26</td>\n",
       "      <td>2.55</td>\n",
       "      <td>17850.0</td>\n",
       "      <td>United Kingdom</td>\n",
       "    </tr>\n",
       "    <tr>\n",
       "      <th>1</th>\n",
       "      <td>536365</td>\n",
       "      <td>71053</td>\n",
       "      <td>WHITE METAL LANTERN</td>\n",
       "      <td>6</td>\n",
       "      <td>12/1/2010 8:26</td>\n",
       "      <td>3.39</td>\n",
       "      <td>17850.0</td>\n",
       "      <td>United Kingdom</td>\n",
       "    </tr>\n",
       "    <tr>\n",
       "      <th>2</th>\n",
       "      <td>536365</td>\n",
       "      <td>84406B</td>\n",
       "      <td>CREAM CUPID HEARTS COAT HANGER</td>\n",
       "      <td>8</td>\n",
       "      <td>12/1/2010 8:26</td>\n",
       "      <td>2.75</td>\n",
       "      <td>17850.0</td>\n",
       "      <td>United Kingdom</td>\n",
       "    </tr>\n",
       "    <tr>\n",
       "      <th>3</th>\n",
       "      <td>536365</td>\n",
       "      <td>84029G</td>\n",
       "      <td>KNITTED UNION FLAG HOT WATER BOTTLE</td>\n",
       "      <td>6</td>\n",
       "      <td>12/1/2010 8:26</td>\n",
       "      <td>3.39</td>\n",
       "      <td>17850.0</td>\n",
       "      <td>United Kingdom</td>\n",
       "    </tr>\n",
       "    <tr>\n",
       "      <th>4</th>\n",
       "      <td>536365</td>\n",
       "      <td>84029E</td>\n",
       "      <td>RED WOOLLY HOTTIE WHITE HEART.</td>\n",
       "      <td>6</td>\n",
       "      <td>12/1/2010 8:26</td>\n",
       "      <td>3.39</td>\n",
       "      <td>17850.0</td>\n",
       "      <td>United Kingdom</td>\n",
       "    </tr>\n",
       "  </tbody>\n",
       "</table>\n",
       "</div>"
      ],
      "text/plain": [
       "  InvoiceNo StockCode                          Description  Quantity  \\\n",
       "0    536365    85123A   WHITE HANGING HEART T-LIGHT HOLDER         6   \n",
       "1    536365     71053                  WHITE METAL LANTERN         6   \n",
       "2    536365    84406B       CREAM CUPID HEARTS COAT HANGER         8   \n",
       "3    536365    84029G  KNITTED UNION FLAG HOT WATER BOTTLE         6   \n",
       "4    536365    84029E       RED WOOLLY HOTTIE WHITE HEART.         6   \n",
       "\n",
       "      InvoiceDate  UnitPrice  CustomerID         Country  \n",
       "0  12/1/2010 8:26       2.55     17850.0  United Kingdom  \n",
       "1  12/1/2010 8:26       3.39     17850.0  United Kingdom  \n",
       "2  12/1/2010 8:26       2.75     17850.0  United Kingdom  \n",
       "3  12/1/2010 8:26       3.39     17850.0  United Kingdom  \n",
       "4  12/1/2010 8:26       3.39     17850.0  United Kingdom  "
      ]
     },
     "execution_count": 5,
     "metadata": {},
     "output_type": "execute_result"
    }
   ],
   "source": [
    "# Cargar datos del archivo ecommerce_data.csv\n",
    "#df_ecommerce = pd.read_csv(r'C:\\CARLOS GOMEZ\\DIPLOMADO PYTHON UC\\CURSO 4 CIENCIAS DE DATOS\\ACTIVIDAD 1\\ecommerce_data.csv')\n",
    "#Se aplica la siguiente instruccion ya que no reconoce el formato del archivo csv\n",
    "df_ecommerce = pd.read_csv(r'C:\\CARLOS GOMEZ\\DIPLOMADO PYTHON UC\\CURSO 4 CIENCIAS DE DATOS\\ACTIVIDAD 1\\ecommerce_data.csv', encoding='latin1')\n",
    "df_ecommerce.head()"
   ]
  },
  {
   "cell_type": "markdown",
   "id": "77dd0239",
   "metadata": {},
   "source": [
    " Transformación de tipos de datos"
   ]
  },
  {
   "cell_type": "code",
   "execution_count": 6,
   "id": "4b4b0d32",
   "metadata": {},
   "outputs": [
    {
     "name": "stdout",
     "output_type": "stream",
     "text": [
      "<class 'pandas.core.frame.DataFrame'>\n",
      "RangeIndex: 541909 entries, 0 to 541908\n",
      "Data columns (total 8 columns):\n",
      " #   Column       Non-Null Count   Dtype  \n",
      "---  ------       --------------   -----  \n",
      " 0   InvoiceNo    541909 non-null  object \n",
      " 1   StockCode    541909 non-null  object \n",
      " 2   Description  540455 non-null  object \n",
      " 3   Quantity     541909 non-null  int64  \n",
      " 4   InvoiceDate  541909 non-null  object \n",
      " 5   UnitPrice    541909 non-null  float64\n",
      " 6   CustomerID   406829 non-null  float64\n",
      " 7   Country      541909 non-null  object \n",
      "dtypes: float64(2), int64(1), object(5)\n",
      "memory usage: 33.1+ MB\n",
      "None\n"
     ]
    }
   ],
   "source": [
    "# Mostrar información inicial\n",
    "print(df_ecommerce.info())\n",
    "# Cambiar tipos de datos\n",
    "#df_ecommerce['InvoiceNo'] = df_ecommerce['InvoiceNo'].fillna(0).astype(int)\n",
    "df_ecommerce['InvoiceNo'] = pd.to_numeric(df_ecommerce['InvoiceNo'], errors='coerce').fillna(0).astype(int) # Convertir todos los valores no numéricos a NaN, luego llenar NaN con 0 y convertir a entero\n",
    "\n",
    "df_ecommerce['InvoiceNo'] = df_ecommerce['InvoiceNo'].astype(int)\n",
    "df_ecommerce['Description'] = df_ecommerce['Description'].astype(str)\n",
    "df_ecommerce['Quantity'] = df_ecommerce['Quantity'].astype(int)\n",
    "df_ecommerce['UnitPrice'] = df_ecommerce['UnitPrice'].astype(float)"
   ]
  },
  {
   "cell_type": "markdown",
   "id": "b077171f",
   "metadata": {},
   "source": [
    " Separar `InvoiceDate` en Fecha y Hora"
   ]
  },
  {
   "cell_type": "code",
   "execution_count": 7,
   "id": "049f01cd",
   "metadata": {},
   "outputs": [],
   "source": [
    "df_ecommerce['InvoiceDate'] = pd.to_datetime(df_ecommerce['InvoiceDate'])\n",
    "df_ecommerce['Fecha'] = df_ecommerce['InvoiceDate'].dt.date\n",
    "df_ecommerce['Hora'] = df_ecommerce['InvoiceDate'].dt.time"
   ]
  },
  {
   "cell_type": "markdown",
   "id": "3d78bac0",
   "metadata": {},
   "source": [
    " Añadir Columna `MontoTotal` y Exportar el Archivo Procesado"
   ]
  },
  {
   "cell_type": "code",
   "execution_count": 8,
   "id": "f2b01577",
   "metadata": {},
   "outputs": [],
   "source": [
    "# Crear columna de monto total\n",
    "df_ecommerce['MontoTotal'] = df_ecommerce['Quantity'] * df_ecommerce['UnitPrice']\n",
    "# Guardar el archivo procesado\n",
    "df_ecommerce.to_csv(r'C:\\CARLOS GOMEZ\\DIPLOMADO PYTHON UC\\CURSO 4 CIENCIAS DE DATOS\\ACTIVIDAD 1\\ecommerce_data_procesado.csv', index=False)"
   ]
  },
  {
   "cell_type": "markdown",
   "id": "a73c7e0f",
   "metadata": {},
   "source": [
    " 4. Estadísticas Descriptivas"
   ]
  },
  {
   "cell_type": "markdown",
   "id": "7e55bce0",
   "metadata": {},
   "source": [
    " Crear un Diccionario con Datos Simulados y Transformarlo en DataFrame"
   ]
  },
  {
   "cell_type": "code",
   "execution_count": 9,
   "id": "fd8b99ff",
   "metadata": {},
   "outputs": [],
   "source": [
    "data = {\n",
    "    'Atributo1': np.random.normal(50, 10, 50),\n",
    "    'Atributo2': np.random.normal(30, 5, 50),\n",
    "    'Atributo3': np.random.normal(100, 20, 50)\n",
    "}\n",
    "df_diccionario = pd.DataFrame(data)"
   ]
  },
  {
   "cell_type": "markdown",
   "id": "7dcd27ac",
   "metadata": {},
   "source": [
    " Estadísticas Descriptivas de Tendencia Central y Dispersión"
   ]
  },
  {
   "cell_type": "code",
   "execution_count": 10,
   "id": "7563fc90",
   "metadata": {},
   "outputs": [
    {
     "name": "stdout",
     "output_type": "stream",
     "text": [
      "       Atributo1  Atributo2   Atributo3\n",
      "count  50.000000  50.000000   50.000000\n",
      "mean   52.130382  29.671017   99.621335\n",
      "std     9.807604   4.336437   21.043173\n",
      "min    24.301208  21.731148   60.799186\n",
      "25%    46.670464  26.590078   89.008691\n",
      "50%    51.529680  28.706664   97.570572\n",
      "75%    57.851345  32.611443  116.354770\n",
      "max    74.618156  40.590728  139.363580\n"
     ]
    }
   ],
   "source": [
    "# Estadísticas descriptivas\n",
    "print(df_diccionario.describe())"
   ]
  },
  {
   "cell_type": "markdown",
   "id": "e9f5eb4b",
   "metadata": {},
   "source": [
    "5. Transformación e Imputación de Datos"
   ]
  },
  {
   "cell_type": "markdown",
   "id": "49f775b8",
   "metadata": {},
   "source": [
    "Cargar datos de `ratings_data.csv` y `books_data.csv`"
   ]
  },
  {
   "cell_type": "code",
   "execution_count": 12,
   "id": "f5a2965c",
   "metadata": {},
   "outputs": [],
   "source": [
    "df_ratings = pd.read_csv(r'C:\\CARLOS GOMEZ\\DIPLOMADO PYTHON UC\\CURSO 4 CIENCIAS DE DATOS\\ACTIVIDAD 1\\ratings_data.csv')\n",
    "#df_books = pd.read_csv(r'C:\\CARLOS GOMEZ\\DIPLOMADO PYTHON UC\\CURSO 4 CIENCIAS DE DATOS\\ACTIVIDAD 1\\books_data.csv', encoding='detected_encoding')\n",
    "#df_books = pd.read_csv(r'C:\\CARLOS GOMEZ\\DIPLOMADO PYTHON UC\\CURSO 4 CIENCIAS DE DATOS\\ACTIVIDAD 1\\books_data.csv')\n",
    "#df_books = pd.read_csv(r'C:\\CARLOS GOMEZ\\DIPLOMADO PYTHON UC\\CURSO 4 CIENCIAS DE DATOS\\ACTIVIDAD 1\\books_data.csv', encoding='iso-8859-1')\n",
    "df_books = pd.read_excel(r'C:\\CARLOS GOMEZ\\DIPLOMADO PYTHON UC\\CURSO 4 CIENCIAS DE DATOS\\ACTIVIDAD 1\\books_data.xlsx')"
   ]
  },
  {
   "cell_type": "markdown",
   "id": "c70d9304",
   "metadata": {},
   "source": [
    "### Diagnóstico de Valores Faltantes e Imputación"
   ]
  },
  {
   "cell_type": "code",
   "execution_count": 13,
   "id": "186686f7",
   "metadata": {},
   "outputs": [
    {
     "name": "stdout",
     "output_type": "stream",
     "text": [
      "Unnamed: 0     0\n",
      "User-ID        0\n",
      "ISBN           0\n",
      "Book-Rating    0\n",
      "MeanRating     0\n",
      "dtype: int64\n",
      "Unnamed: 0     0\n",
      "User-ID        0\n",
      "ISBN           0\n",
      "Book-Rating    0\n",
      "MeanRating     0\n",
      "dtype: int64\n"
     ]
    }
   ],
   "source": [
    "# Diagnóstico de valores nulos\n",
    "print(df_ratings.isna().sum())\n",
    "# Imputación de valores faltantes\n",
    "imputer = SimpleImputer(strategy='mean')\n",
    "#df_ratings = pd.DataFrame(imputer.fit_transform(df_ratings), columns=df_ratings.columns)\n",
    "# Imputación de valores faltantes en todas las columnas numéricas\n",
    "df_ratings[df_ratings.select_dtypes(include=['float64', 'int64']).columns] = imputer.fit_transform(df_ratings.select_dtypes(include=['float64', 'int64']))\n",
    "df_ratings.fillna(0, inplace=True)  # Segundo criterio de imputación\n",
    "\n",
    "# Diagnóstico de valores nulos\n",
    "print(df_ratings.isna().sum())\n"
   ]
  },
  {
   "cell_type": "markdown",
   "id": "ae025f83",
   "metadata": {},
   "source": [
    "### Promedio de Rating por ISBN"
   ]
  },
  {
   "cell_type": "code",
   "execution_count": 14,
   "id": "e8a06385",
   "metadata": {},
   "outputs": [],
   "source": [
    "#promedio_rating = df_ratings.groupby('ISBN')['Rating'].mean().reset_index()\n",
    "#print(df_ratings.columns) \n",
    "promedio_rating = df_ratings.groupby('ISBN')['Book-Rating'].mean().reset_index() #Faltaba colocar la palabra Book-rating\n",
    "promedio_rating.columns = ['ISBN', 'PromedioRating']\n",
    "df_ratings = df_ratings.merge(promedio_rating, on='ISBN', how='left')"
   ]
  },
  {
   "cell_type": "markdown",
   "id": "37614cb7",
   "metadata": {},
   "source": [
    "### Consolidación de Bases de Datos por ISBN"
   ]
  },
  {
   "cell_type": "code",
   "execution_count": 15,
   "id": "f500cc94",
   "metadata": {},
   "outputs": [
    {
     "name": "stdout",
     "output_type": "stream",
     "text": [
      "         ISBN                                         Book-Title  \\\n",
      "0  0195153448                                Classical Mythology   \n",
      "1  0002005018                                       Clara Callan   \n",
      "2  0060973129                               Decision in Normandy   \n",
      "3  0374157065  Flu: The Story of the Great Influenza Pandemic...   \n",
      "4  0393045218                             The Mummies of Urumchi   \n",
      "\n",
      "            Book-Author  Year-Of-Publication                Publisher  \\\n",
      "0    Mark P. O. Morford                 2002  Oxford University Press   \n",
      "1  Richard Bruce Wright                 2001    HarperFlamingo Canada   \n",
      "2          Carlo D'Este                 1991          HarperPerennial   \n",
      "3      Gina Bari Kolata                 1999     Farrar Straus Giroux   \n",
      "4       E. J. W. Barber                 1999   W. W. Norton & Company   \n",
      "\n",
      "                                         Image-URL-S  \\\n",
      "0  http://images.amazon.com/images/P/0195153448.0...   \n",
      "1  http://images.amazon.com/images/P/0002005018.0...   \n",
      "2  http://images.amazon.com/images/P/0060973129.0...   \n",
      "3  http://images.amazon.com/images/P/0374157065.0...   \n",
      "4  http://images.amazon.com/images/P/0393045218.0...   \n",
      "\n",
      "                                         Image-URL-M  \\\n",
      "0  http://images.amazon.com/images/P/0195153448.0...   \n",
      "1  http://images.amazon.com/images/P/0002005018.0...   \n",
      "2  http://images.amazon.com/images/P/0060973129.0...   \n",
      "3  http://images.amazon.com/images/P/0374157065.0...   \n",
      "4  http://images.amazon.com/images/P/0393045218.0...   \n",
      "\n",
      "                                         Image-URL-L  \n",
      "0  http://images.amazon.com/images/P/0195153448.0...  \n",
      "1  http://images.amazon.com/images/P/0002005018.0...  \n",
      "2  http://images.amazon.com/images/P/0060973129.0...  \n",
      "3  http://images.amazon.com/images/P/0374157065.0...  \n",
      "4  http://images.amazon.com/images/P/0393045218.0...  \n"
     ]
    }
   ],
   "source": [
    "df_books = pd.read_excel(r'C:\\CARLOS GOMEZ\\DIPLOMADO PYTHON UC\\CURSO 4 CIENCIAS DE DATOS\\ACTIVIDAD 1\\books_data.xlsx')\n",
    "#print(\"Columnas en df_books:\", df_books.columns)\n",
    "print(df_books.head())\n",
    "df_consolidado = df_books.merge(df_ratings, on='ISBN', how='left')\n",
    "df_consolidado.to_csv(r'C:\\CARLOS GOMEZ\\DIPLOMADO PYTHON UC\\CURSO 4 CIENCIAS DE DATOS\\ACTIVIDAD 1\\consolidado.csv', index=False)"
   ]
  },
  {
   "cell_type": "markdown",
   "id": "38c6cdaa",
   "metadata": {},
   "source": [
    "## Conclusión\n",
    "En esta actividad, se realizaron varias tareas de exploración y transformación de datos utilizando las bibliotecas Pandas y NumPy, así como imputación de datos con sklearn. Cada paso contribuyó a la creación de un flujo de trabajo completo de análisis de datos."
   ]
  }
 ],
 "metadata": {
  "kernelspec": {
   "display_name": "curso_de_ciencias_de_datos",
   "language": "python",
   "name": "python3"
  },
  "language_info": {
   "codemirror_mode": {
    "name": "ipython",
    "version": 3
   },
   "file_extension": ".py",
   "mimetype": "text/x-python",
   "name": "python",
   "nbconvert_exporter": "python",
   "pygments_lexer": "ipython3",
   "version": "3.8.20"
  }
 },
 "nbformat": 4,
 "nbformat_minor": 5
}
